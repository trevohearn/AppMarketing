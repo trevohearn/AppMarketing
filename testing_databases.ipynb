{
 "cells": [
  {
   "cell_type": "code",
   "execution_count": 2,
   "metadata": {},
   "outputs": [],
   "source": [
    "#imports\n",
    "#short term imports\n",
    "import sqlite3\n",
    "\n",
    "#long term imports\n",
    "import mysql.connector as connector\n",
    "import config"
   ]
  },
  {
   "cell_type": "code",
   "execution_count": 3,
   "metadata": {},
   "outputs": [
    {
     "data": {
      "text/plain": [
       "{'endpoint': 'appmarketing.cluster-cpabc6otoy2h.us-east-2.rds.amazonaws.com',\n",
       " 'username': 'tohearn',\n",
       " 'password': '33Tw4v3o9',\n",
       " 'port': '3306'}"
      ]
     },
     "execution_count": 3,
     "metadata": {},
     "output_type": "execute_result"
    }
   ],
   "source": [
    "config.creds"
   ]
  },
  {
   "cell_type": "markdown",
   "metadata": {},
   "source": [
    "# Mysql"
   ]
  },
  {
   "cell_type": "code",
   "execution_count": 8,
   "metadata": {
    "collapsed": true
   },
   "outputs": [
    {
     "ename": "DatabaseError",
     "evalue": "2003 (HY000): Can't connect to MySQL server on 'appmarketing.cluster-cpabc6otoy2h.us-east-2.rds.amazonaws.com' (60)",
     "output_type": "error",
     "traceback": [
      "\u001b[0;31m---------------------------------------------------------------------------\u001b[0m",
      "\u001b[0;31mMySQLInterfaceError\u001b[0m                       Traceback (most recent call last)",
      "\u001b[0;32m~/opt/anaconda3/lib/python3.7/site-packages/mysql/connector/connection_cext.py\u001b[0m in \u001b[0;36m_open_connection\u001b[0;34m(self)\u001b[0m\n\u001b[1;32m    215\u001b[0m         \u001b[0;32mtry\u001b[0m\u001b[0;34m:\u001b[0m\u001b[0;34m\u001b[0m\u001b[0;34m\u001b[0m\u001b[0m\n\u001b[0;32m--> 216\u001b[0;31m             \u001b[0mself\u001b[0m\u001b[0;34m.\u001b[0m\u001b[0m_cmysql\u001b[0m\u001b[0;34m.\u001b[0m\u001b[0mconnect\u001b[0m\u001b[0;34m(\u001b[0m\u001b[0;34m**\u001b[0m\u001b[0mcnx_kwargs\u001b[0m\u001b[0;34m)\u001b[0m\u001b[0;34m\u001b[0m\u001b[0;34m\u001b[0m\u001b[0m\n\u001b[0m\u001b[1;32m    217\u001b[0m         \u001b[0;32mexcept\u001b[0m \u001b[0mMySQLInterfaceError\u001b[0m \u001b[0;32mas\u001b[0m \u001b[0mexc\u001b[0m\u001b[0;34m:\u001b[0m\u001b[0;34m\u001b[0m\u001b[0;34m\u001b[0m\u001b[0m\n",
      "\u001b[0;31mMySQLInterfaceError\u001b[0m: Can't connect to MySQL server on 'appmarketing.cluster-cpabc6otoy2h.us-east-2.rds.amazonaws.com' (60)",
      "\nDuring handling of the above exception, another exception occurred:\n",
      "\u001b[0;31mDatabaseError\u001b[0m                             Traceback (most recent call last)",
      "\u001b[0;32m<ipython-input-8-d4f1b40afea8>\u001b[0m in \u001b[0;36m<module>\u001b[0;34m\u001b[0m\n\u001b[1;32m      5\u001b[0m     \u001b[0mhost\u001b[0m \u001b[0;34m=\u001b[0m \u001b[0mconfig\u001b[0m\u001b[0;34m.\u001b[0m\u001b[0mcreds\u001b[0m\u001b[0;34m[\u001b[0m\u001b[0;34m'endpoint'\u001b[0m\u001b[0;34m]\u001b[0m\u001b[0;34m,\u001b[0m\u001b[0;34m\u001b[0m\u001b[0;34m\u001b[0m\u001b[0m\n\u001b[1;32m      6\u001b[0m     \u001b[0muser\u001b[0m \u001b[0;34m=\u001b[0m \u001b[0;34m'admin'\u001b[0m\u001b[0;34m,\u001b[0m\u001b[0;31m#config.creds['username'],\u001b[0m\u001b[0;34m\u001b[0m\u001b[0;34m\u001b[0m\u001b[0m\n\u001b[0;32m----> 7\u001b[0;31m     \u001b[0mpasswd\u001b[0m \u001b[0;34m=\u001b[0m \u001b[0mconfig\u001b[0m\u001b[0;34m.\u001b[0m\u001b[0mcreds\u001b[0m\u001b[0;34m[\u001b[0m\u001b[0;34m'password'\u001b[0m\u001b[0;34m]\u001b[0m\u001b[0;34m\u001b[0m\u001b[0;34m\u001b[0m\u001b[0m\n\u001b[0m\u001b[1;32m      8\u001b[0m )\n",
      "\u001b[0;32m~/opt/anaconda3/lib/python3.7/site-packages/mysql/connector/__init__.py\u001b[0m in \u001b[0;36mconnect\u001b[0;34m(*args, **kwargs)\u001b[0m\n\u001b[1;32m    216\u001b[0m \u001b[0;34m\u001b[0m\u001b[0m\n\u001b[1;32m    217\u001b[0m     \u001b[0;32mif\u001b[0m \u001b[0mHAVE_CEXT\u001b[0m \u001b[0;32mand\u001b[0m \u001b[0;32mnot\u001b[0m \u001b[0muse_pure\u001b[0m\u001b[0;34m:\u001b[0m\u001b[0;34m\u001b[0m\u001b[0;34m\u001b[0m\u001b[0m\n\u001b[0;32m--> 218\u001b[0;31m         \u001b[0;32mreturn\u001b[0m \u001b[0mCMySQLConnection\u001b[0m\u001b[0;34m(\u001b[0m\u001b[0;34m*\u001b[0m\u001b[0margs\u001b[0m\u001b[0;34m,\u001b[0m \u001b[0;34m**\u001b[0m\u001b[0mkwargs\u001b[0m\u001b[0;34m)\u001b[0m\u001b[0;34m\u001b[0m\u001b[0;34m\u001b[0m\u001b[0m\n\u001b[0m\u001b[1;32m    219\u001b[0m     \u001b[0;32mreturn\u001b[0m \u001b[0mMySQLConnection\u001b[0m\u001b[0;34m(\u001b[0m\u001b[0;34m*\u001b[0m\u001b[0margs\u001b[0m\u001b[0;34m,\u001b[0m \u001b[0;34m**\u001b[0m\u001b[0mkwargs\u001b[0m\u001b[0;34m)\u001b[0m\u001b[0;34m\u001b[0m\u001b[0;34m\u001b[0m\u001b[0m\n\u001b[1;32m    220\u001b[0m \u001b[0mConnect\u001b[0m \u001b[0;34m=\u001b[0m \u001b[0mconnect\u001b[0m  \u001b[0;31m# pylint: disable=C0103\u001b[0m\u001b[0;34m\u001b[0m\u001b[0;34m\u001b[0m\u001b[0m\n",
      "\u001b[0;32m~/opt/anaconda3/lib/python3.7/site-packages/mysql/connector/connection_cext.py\u001b[0m in \u001b[0;36m__init__\u001b[0;34m(self, **kwargs)\u001b[0m\n\u001b[1;32m     78\u001b[0m \u001b[0;34m\u001b[0m\u001b[0m\n\u001b[1;32m     79\u001b[0m         \u001b[0;32mif\u001b[0m \u001b[0mkwargs\u001b[0m\u001b[0;34m:\u001b[0m\u001b[0;34m\u001b[0m\u001b[0;34m\u001b[0m\u001b[0m\n\u001b[0;32m---> 80\u001b[0;31m             \u001b[0mself\u001b[0m\u001b[0;34m.\u001b[0m\u001b[0mconnect\u001b[0m\u001b[0;34m(\u001b[0m\u001b[0;34m**\u001b[0m\u001b[0mkwargs\u001b[0m\u001b[0;34m)\u001b[0m\u001b[0;34m\u001b[0m\u001b[0;34m\u001b[0m\u001b[0m\n\u001b[0m\u001b[1;32m     81\u001b[0m \u001b[0;34m\u001b[0m\u001b[0m\n\u001b[1;32m     82\u001b[0m     \u001b[0;32mdef\u001b[0m \u001b[0m_add_default_conn_attrs\u001b[0m\u001b[0;34m(\u001b[0m\u001b[0mself\u001b[0m\u001b[0;34m)\u001b[0m\u001b[0;34m:\u001b[0m\u001b[0;34m\u001b[0m\u001b[0;34m\u001b[0m\u001b[0m\n",
      "\u001b[0;32m~/opt/anaconda3/lib/python3.7/site-packages/mysql/connector/abstracts.py\u001b[0m in \u001b[0;36mconnect\u001b[0;34m(self, **kwargs)\u001b[0m\n\u001b[1;32m    958\u001b[0m \u001b[0;34m\u001b[0m\u001b[0m\n\u001b[1;32m    959\u001b[0m         \u001b[0mself\u001b[0m\u001b[0;34m.\u001b[0m\u001b[0mdisconnect\u001b[0m\u001b[0;34m(\u001b[0m\u001b[0;34m)\u001b[0m\u001b[0;34m\u001b[0m\u001b[0;34m\u001b[0m\u001b[0m\n\u001b[0;32m--> 960\u001b[0;31m         \u001b[0mself\u001b[0m\u001b[0;34m.\u001b[0m\u001b[0m_open_connection\u001b[0m\u001b[0;34m(\u001b[0m\u001b[0;34m)\u001b[0m\u001b[0;34m\u001b[0m\u001b[0;34m\u001b[0m\u001b[0m\n\u001b[0m\u001b[1;32m    961\u001b[0m         \u001b[0;31m# Server does not allow to run any other statement different from ALTER\u001b[0m\u001b[0;34m\u001b[0m\u001b[0;34m\u001b[0m\u001b[0;34m\u001b[0m\u001b[0m\n\u001b[1;32m    962\u001b[0m         \u001b[0;31m# when user's password has been expired.\u001b[0m\u001b[0;34m\u001b[0m\u001b[0;34m\u001b[0m\u001b[0;34m\u001b[0m\u001b[0m\n",
      "\u001b[0;32m~/opt/anaconda3/lib/python3.7/site-packages/mysql/connector/connection_cext.py\u001b[0m in \u001b[0;36m_open_connection\u001b[0;34m(self)\u001b[0m\n\u001b[1;32m    217\u001b[0m         \u001b[0;32mexcept\u001b[0m \u001b[0mMySQLInterfaceError\u001b[0m \u001b[0;32mas\u001b[0m \u001b[0mexc\u001b[0m\u001b[0;34m:\u001b[0m\u001b[0;34m\u001b[0m\u001b[0;34m\u001b[0m\u001b[0m\n\u001b[1;32m    218\u001b[0m             raise errors.get_mysql_exception(msg=exc.msg, errno=exc.errno,\n\u001b[0;32m--> 219\u001b[0;31m                                              sqlstate=exc.sqlstate)\n\u001b[0m\u001b[1;32m    220\u001b[0m \u001b[0;34m\u001b[0m\u001b[0m\n\u001b[1;32m    221\u001b[0m         \u001b[0mself\u001b[0m\u001b[0;34m.\u001b[0m\u001b[0m_do_handshake\u001b[0m\u001b[0;34m(\u001b[0m\u001b[0;34m)\u001b[0m\u001b[0;34m\u001b[0m\u001b[0;34m\u001b[0m\u001b[0m\n",
      "\u001b[0;31mDatabaseError\u001b[0m: 2003 (HY000): Can't connect to MySQL server on 'appmarketing.cluster-cpabc6otoy2h.us-east-2.rds.amazonaws.com' (60)"
     ]
    }
   ],
   "source": [
    "cnx = connector.connect(\n",
    "    host = config.creds['endpoint'],\n",
    "    user = 'admin',#config.creds['username'],\n",
    "    passwd = config.creds['password']\n",
    ")"
   ]
  },
  {
   "cell_type": "markdown",
   "metadata": {},
   "source": [
    "# Methods"
   ]
  },
  {
   "cell_type": "code",
   "execution_count": 101,
   "metadata": {},
   "outputs": [],
   "source": [
    "def createDatabase(cnx, dbName):\n",
    "    cursor = cnx.cursor()\n",
    "    try:\n",
    "        cursor.execute(\"CREATE DATABASE {} DEFAULT CHARACTER SET 'utf8'\".format(dbName))\n",
    "        cnx.commit()\n",
    "    except mysql.connector.Error as e:\n",
    "        print('Failed creating database: {}'.format(e))\n",
    "        exit(1)\n",
    "    \n",
    "def changeDatabase(cnx, dbName):\n",
    "    cursor = cnx.cursor()\n",
    "    try:\n",
    "        cursor.execute(\"USE {}\".format(dbName))\n",
    "    except mysql.connector.Error as e:\n",
    "        print('Database {} deos not exist.'.format(dbName))\n",
    "        if e.errno == errorcode.ER_BAD_DB_ERROR:\n",
    "            createDatabase(cnx, dbName)\n",
    "            print('Database {} created successfully'.format(dbName))\n",
    "            cnx.database = dbName\n",
    "        else:\n",
    "            print(e)\n",
    "            exit(1)\n",
    "\n",
    "            \n",
    "def createTable(conn, table):\n",
    "    cursor = conn.cursor()\n",
    "    try:\n",
    "        cursor.execute(table)\n",
    "        conn.commit()\n",
    "    except:\n",
    "        print(table)\n",
    "        print('table already exists')\n",
    "                        \n",
    "\n",
    "def AddRow(c, tableName, valuesList):\n",
    "    if (valuesList[1] == None or valuesList[2] == None or valuesList[5] == None or valuesList[9] == None):\n",
    "        print('Not Null value found in row {}'.format(valuesList[0]))\n",
    "        return None\n",
    "        \n",
    "    deliminator = \"', '\"\n",
    "    results = deliminator.join([str(x) for x in valuesList])\n",
    "    #results = \"'\" + resultas + \"'\"\n",
    "    sqlstr = \"\"\"INSERT INTO '{}' VALUES ('{}');\"\"\".format(tableName, results)\n",
    "    try:\n",
    "        c.execute(sqlstr)\n",
    "        print('success')\n",
    "    except sqlite3.Error as e:\n",
    "        print(tableName)\n",
    "        print(e)\n",
    "        print('couldnt add row')\n",
    "\n",
    "def getRows(conn, tableName):\n",
    "    cursor = conn.cursor()\n",
    "    sqlstr = 'SELECT * FROM {}'.format(tableName)\n",
    "    try:\n",
    "        cursor.execute(sqlstr)\n",
    "        return cursor.fetchall()\n",
    "    except:\n",
    "        print('couldnt retrieve data from {}'.format(tableName))\n",
    "        return None\n"
   ]
  },
  {
   "cell_type": "markdown",
   "metadata": {},
   "source": [
    "# Tables"
   ]
  },
  {
   "cell_type": "code",
   "execution_count": 71,
   "metadata": {},
   "outputs": [],
   "source": [
    "apple_table = \"\"\"\n",
    "Create TABLE apple\n",
    "(\n",
    "name varchar(255),\n",
    "id int(255) NOT NULL UNIQUE,\n",
    "size int(255) NOT NULL,\n",
    "currency varchar(255),\n",
    "price DOUBLE(255, 2),\n",
    "totalRatingCount int(255) NOT NULL,\n",
    "userRating DOUBLE(255, 2),\n",
    "contentRating varchar(255),\n",
    "primeGenre varchar(255),\n",
    "languages int(255) NOT NULL,\n",
    "appDescription varchar(255)\n",
    "\n",
    ");\n",
    "\"\"\"\n",
    "#name, id, size, currency, price, totalRatingCount, userRating, contentRating, primeGenre, languages, appDescription\n",
    "google_table = \"\"\"\n",
    "CREATE TABLE google\n",
    "(\n",
    "id int(255) NOT NULL UNIQUE,\n",
    "name varchar(255),\n",
    "primeGenre varchar(255),\n",
    "rating DOUBLE(255, 1),\n",
    "reviews int(255) NOT NULL,\n",
    "size int(255) NOT NULL,\n",
    "installs int(555) NOT NULL,\n",
    "type varchar(255),\n",
    "price DOUBLE(255, 2),\n",
    "contentRating varchar(255),\n",
    "subgenres varchar(255),\n",
    "lastUpdated varchar(255),\n",
    "currentVer varchar(255),\n",
    "androidVer varchar(255),\n",
    "\n",
    ");\n",
    "\"\"\"\n",
    "\n",
    "appleTestList = ['app3', 3, 170000, 'USD', 2.32, 147,\n",
    " 3.7, 'T', 'Games', 1, 'this is a test']"
   ]
  },
  {
   "cell_type": "markdown",
   "metadata": {},
   "source": [
    "# sqlite"
   ]
  },
  {
   "cell_type": "code",
   "execution_count": 3,
   "metadata": {},
   "outputs": [],
   "source": [
    "conn = sqlite3.connect('apps.db')\n",
    "c = conn.cursor()"
   ]
  },
  {
   "cell_type": "code",
   "execution_count": 132,
   "metadata": {},
   "outputs": [
    {
     "data": {
      "text/plain": [
       "True"
      ]
     },
     "execution_count": 132,
     "metadata": {},
     "output_type": "execute_result"
    }
   ],
   "source": [
    "type(conn) == sqlite3.Connection"
   ]
  },
  {
   "cell_type": "code",
   "execution_count": 46,
   "metadata": {},
   "outputs": [
    {
     "data": {
      "text/plain": [
       "11"
      ]
     },
     "execution_count": 46,
     "metadata": {},
     "output_type": "execute_result"
    }
   ],
   "source": [
    "len(appleTestList)"
   ]
  },
  {
   "cell_type": "code",
   "execution_count": 50,
   "metadata": {},
   "outputs": [
    {
     "name": "stdout",
     "output_type": "stream",
     "text": [
      "apple\n",
      "couldnt add row\n"
     ]
    }
   ],
   "source": [
    "addRow(conn, 'apple', appleTestList)"
   ]
  },
  {
   "cell_type": "code",
   "execution_count": 11,
   "metadata": {},
   "outputs": [
    {
     "data": {
      "text/plain": [
       "<sqlite3.Cursor at 0x10f56db90>"
      ]
     },
     "execution_count": 11,
     "metadata": {},
     "output_type": "execute_result"
    }
   ],
   "source": [
    "c.execute(\"\"\"\n",
    "INSERT INTO apple VALUES ('app1', '3', '150000', 'USD', '4.99', '150', '4.2', 'E', 'Games', '1', 'this is a test')\n",
    ";\"\"\")"
   ]
  },
  {
   "cell_type": "code",
   "execution_count": 95,
   "metadata": {},
   "outputs": [],
   "source": [
    "conn.commit()"
   ]
  },
  {
   "cell_type": "code",
   "execution_count": 68,
   "metadata": {},
   "outputs": [],
   "source": [
    "result = c.execute(\"\"\"\n",
    "SELECT *\n",
    "FROM apple\n",
    ";\"\"\")"
   ]
  },
  {
   "cell_type": "code",
   "execution_count": 69,
   "metadata": {},
   "outputs": [],
   "source": [
    "data = result.fetchall()"
   ]
  },
  {
   "cell_type": "code",
   "execution_count": 70,
   "metadata": {
    "scrolled": true
   },
   "outputs": [
    {
     "data": {
      "text/plain": [
       "[('app1', 1, 150000, 'USD', 4.99, 150, 4.2, 'E', 'Games', 1, 'this is a test'),\n",
       " ('app2', 2, 160000, 'USD', 5.01, 151, 4.3, 'M', 'Games', 1, 'this is a test')]"
      ]
     },
     "execution_count": 70,
     "metadata": {},
     "output_type": "execute_result"
    }
   ],
   "source": [
    "data"
   ]
  },
  {
   "cell_type": "code",
   "execution_count": null,
   "metadata": {},
   "outputs": [],
   "source": []
  },
  {
   "cell_type": "code",
   "execution_count": 100,
   "metadata": {},
   "outputs": [],
   "source": [
    "#possible not allowed None(s)\n",
    "testlist = ['app1', 1, 2, 'USD', '4.99', 3, '4.2', 'E', 'Games', 4, 'this is a test']\n",
    "\n",
    "\n"
   ]
  },
  {
   "cell_type": "code",
   "execution_count": 122,
   "metadata": {},
   "outputs": [],
   "source": [
    "import pandas as pd\n",
    "df = pd.read_csv('Data/app-store-apple-data-set-10k-apps/AppleStore.csv')"
   ]
  },
  {
   "cell_type": "code",
   "execution_count": 104,
   "metadata": {},
   "outputs": [],
   "source": [
    "f = open(file='Data/app-store-apple-data-set-10k-apps/AppleStore.csv', mode='r')"
   ]
  },
  {
   "cell_type": "code",
   "execution_count": 105,
   "metadata": {},
   "outputs": [],
   "source": [
    "result = f.readline()"
   ]
  },
  {
   "cell_type": "code",
   "execution_count": 106,
   "metadata": {},
   "outputs": [
    {
     "data": {
      "text/plain": [
       "'\"\",\"id\",\"track_name\",\"size_bytes\",\"currency\",\"price\",\"rating_count_tot\",\"rating_count_ver\",\"user_rating\",\"user_rating_ver\",\"ver\",\"cont_rating\",\"prime_genre\",\"sup_devices.num\",\"ipadSc_urls.num\",\"lang.num\",\"vpp_lic\"\\n'"
      ]
     },
     "execution_count": 106,
     "metadata": {},
     "output_type": "execute_result"
    }
   ],
   "source": [
    "result"
   ]
  },
  {
   "cell_type": "code",
   "execution_count": 107,
   "metadata": {},
   "outputs": [],
   "source": [
    "result2 = f.readline()"
   ]
  },
  {
   "cell_type": "code",
   "execution_count": 108,
   "metadata": {},
   "outputs": [
    {
     "data": {
      "text/plain": [
       "'\"1\",\"281656475\",\"PAC-MAN Premium\",100788224,\"USD\",3.99,21292,26,4,4.5,\"6.3.5\",\"4+\",\"Games\",38,5,10,1\\n'"
      ]
     },
     "execution_count": 108,
     "metadata": {},
     "output_type": "execute_result"
    }
   ],
   "source": [
    "result2"
   ]
  },
  {
   "cell_type": "code",
   "execution_count": 109,
   "metadata": {},
   "outputs": [],
   "source": [
    "reslist = result2.split(',')"
   ]
  },
  {
   "cell_type": "code",
   "execution_count": 110,
   "metadata": {},
   "outputs": [
    {
     "data": {
      "text/plain": [
       "['\"1\"',\n",
       " '\"281656475\"',\n",
       " '\"PAC-MAN Premium\"',\n",
       " '100788224',\n",
       " '\"USD\"',\n",
       " '3.99',\n",
       " '21292',\n",
       " '26',\n",
       " '4',\n",
       " '4.5',\n",
       " '\"6.3.5\"',\n",
       " '\"4+\"',\n",
       " '\"Games\"',\n",
       " '38',\n",
       " '5',\n",
       " '10',\n",
       " '1\\n']"
      ]
     },
     "execution_count": 110,
     "metadata": {},
     "output_type": "execute_result"
    }
   ],
   "source": [
    "reslist"
   ]
  },
  {
   "cell_type": "code",
   "execution_count": 112,
   "metadata": {},
   "outputs": [
    {
     "data": {
      "text/plain": [
       "'PAC-MAN Premium'"
      ]
     },
     "execution_count": 112,
     "metadata": {},
     "output_type": "execute_result"
    }
   ],
   "source": [
    "'\"PAC-MAN Premium\"'.strip('\"')"
   ]
  },
  {
   "cell_type": "code",
   "execution_count": 119,
   "metadata": {},
   "outputs": [],
   "source": [
    "reslist[-1] = reslist[-1].strip('\\n')"
   ]
  },
  {
   "cell_type": "code",
   "execution_count": 120,
   "metadata": {},
   "outputs": [],
   "source": [
    "stuff = [x.strip('\"') for x in reslist]"
   ]
  },
  {
   "cell_type": "code",
   "execution_count": 124,
   "metadata": {},
   "outputs": [
    {
     "data": {
      "text/plain": [
       "['1',\n",
       " '281656475',\n",
       " 'PAC-MAN Premium',\n",
       " '100788224',\n",
       " 'USD',\n",
       " '3.99',\n",
       " '21292',\n",
       " '26',\n",
       " '4',\n",
       " '4.5',\n",
       " '6.3.5',\n",
       " '4+',\n",
       " 'Games',\n",
       " '38',\n",
       " '5',\n",
       " '10',\n",
       " '1']"
      ]
     },
     "execution_count": 124,
     "metadata": {},
     "output_type": "execute_result"
    }
   ],
   "source": [
    "stuff"
   ]
  },
  {
   "cell_type": "code",
   "execution_count": null,
   "metadata": {},
   "outputs": [],
   "source": [
    "#'\"\",\"id\",\"track_name\",\"size_bytes\",\"currency\",\"price\",\"rating_count_tot\",\"rating_count_ver\",\n",
    "#\"user_rating\",\"user_rating_ver\",\"ver\",\"cont_rating\",\"prime_genre\",\"sup_devices.num\",\n",
    "#\"ipadSc_urls.num\",\"lang.num\",\"vpp_lic\"\\n'"
   ]
  },
  {
   "cell_type": "code",
   "execution_count": null,
   "metadata": {},
   "outputs": [],
   "source": [
    "\n",
    "#name, id, size, currency, price, totalRatingCount, userRating, \n",
    "#contentRating, primeGenre, languages, appDescription"
   ]
  },
  {
   "cell_type": "code",
   "execution_count": 125,
   "metadata": {},
   "outputs": [],
   "source": [
    "f.close()"
   ]
  },
  {
   "cell_type": "code",
   "execution_count": 126,
   "metadata": {},
   "outputs": [],
   "source": [
    "c.close()"
   ]
  },
  {
   "cell_type": "code",
   "execution_count": 128,
   "metadata": {},
   "outputs": [],
   "source": [
    "conn.close()"
   ]
  },
  {
   "cell_type": "code",
   "execution_count": null,
   "metadata": {},
   "outputs": [],
   "source": [
    "stuff[2], stuff[0], "
   ]
  },
  {
   "cell_type": "code",
   "execution_count": null,
   "metadata": {},
   "outputs": [],
   "source": [
    "addrow(c, 'apple' , stuff)"
   ]
  }
 ],
 "metadata": {
  "kernelspec": {
   "display_name": "Python 3",
   "language": "python",
   "name": "python3"
  },
  "language_info": {
   "codemirror_mode": {
    "name": "ipython",
    "version": 3
   },
   "file_extension": ".py",
   "mimetype": "text/x-python",
   "name": "python",
   "nbconvert_exporter": "python",
   "pygments_lexer": "ipython3",
   "version": "3.7.4"
  },
  "toc": {
   "base_numbering": 1,
   "nav_menu": {},
   "number_sections": true,
   "sideBar": true,
   "skip_h1_title": false,
   "title_cell": "Table of Contents",
   "title_sidebar": "Contents",
   "toc_cell": false,
   "toc_position": {},
   "toc_section_display": true,
   "toc_window_display": false
  }
 },
 "nbformat": 4,
 "nbformat_minor": 2
}
